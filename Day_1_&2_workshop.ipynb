{
 "cells": [
  {
   "cell_type": "markdown",
   "id": "177be8a9",
   "metadata": {},
   "source": [
    "## Session1: Introduction to Python and Data Types "
   ]
  },
  {
   "cell_type": "markdown",
   "id": "1bb85bf3",
   "metadata": {},
   "source": [
    "•\tInstallation and Setup:\n",
    "\n",
    "o\tStep-by-step guide to downloading and installing Anaconda Navigator.\n",
    "\n",
    "•\tVariables and Data Types:\n",
    "\n",
    "o\tUnderstanding variables and exploring different data types (int, float, string).\n",
    "\n",
    "•\tLists and Tuples:\n",
    "\n",
    "o\tExploring the concepts of lists and tuples.\n",
    "\n",
    "o\tUnderstanding indexing and slicing in Python.\n"
   ]
  },
  {
   "cell_type": "code",
   "execution_count": 2,
   "id": "db34aecd",
   "metadata": {},
   "outputs": [
    {
     "name": "stdout",
     "output_type": "stream",
     "text": [
      "Hello_world\n"
     ]
    }
   ],
   "source": [
    "print(\"Hello_world\")"
   ]
  },
  {
   "cell_type": "markdown",
   "id": "38642bb7",
   "metadata": {},
   "source": [
    "# Simple Calculations with Python"
   ]
  },
  {
   "cell_type": "markdown",
   "id": "bd76360c",
   "metadata": {},
   "source": [
    " Basic Arithmetic Operations"
   ]
  },
  {
   "cell_type": "code",
   "execution_count": null,
   "id": "6fde2b10",
   "metadata": {},
   "outputs": [],
   "source": [
    "1 + 2"
   ]
  },
  {
   "cell_type": "code",
   "execution_count": null,
   "id": "7ede1abb",
   "metadata": {},
   "outputs": [],
   "source": [
    "2 * 5"
   ]
  },
  {
   "cell_type": "code",
   "execution_count": null,
   "id": "baa69d3f",
   "metadata": {},
   "outputs": [],
   "source": [
    "8 / 2"
   ]
  },
  {
   "cell_type": "code",
   "execution_count": null,
   "id": "c0bb7e7b",
   "metadata": {},
   "outputs": [],
   "source": [
    "2 ** 5"
   ]
  },
  {
   "cell_type": "markdown",
   "id": "dd4d1a12",
   "metadata": {},
   "source": [
    "\n",
    "Function Calls\n"
   ]
  },
  {
   "cell_type": "code",
   "execution_count": 3,
   "id": "8afb719e",
   "metadata": {},
   "outputs": [
    {
     "data": {
      "text/plain": [
       "5"
      ]
     },
     "execution_count": 3,
     "metadata": {},
     "output_type": "execute_result"
    }
   ],
   "source": [
    "abs(-5)"
   ]
  },
  {
   "cell_type": "code",
   "execution_count": 4,
   "id": "d25be6e4",
   "metadata": {},
   "outputs": [
    {
     "data": {
      "text/plain": [
       "32"
      ]
     },
     "execution_count": 4,
     "metadata": {},
     "output_type": "execute_result"
    }
   ],
   "source": [
    "pow(2,5)"
   ]
  },
  {
   "cell_type": "code",
   "execution_count": null,
   "id": "e2be43ac",
   "metadata": {},
   "outputs": [],
   "source": [
    "sqrt(9)"
   ]
  },
  {
   "cell_type": "code",
   "execution_count": 6,
   "id": "e11c788f",
   "metadata": {},
   "outputs": [],
   "source": [
    "import math"
   ]
  },
  {
   "cell_type": "code",
   "execution_count": 7,
   "id": "c45deee0",
   "metadata": {},
   "outputs": [
    {
     "data": {
      "text/plain": [
       "3.0"
      ]
     },
     "execution_count": 7,
     "metadata": {},
     "output_type": "execute_result"
    }
   ],
   "source": [
    "math.sqrt(9)"
   ]
  },
  {
   "cell_type": "code",
   "execution_count": 8,
   "id": "7f345417",
   "metadata": {},
   "outputs": [
    {
     "data": {
      "text/plain": [
       "12"
      ]
     },
     "execution_count": 8,
     "metadata": {},
     "output_type": "execute_result"
    }
   ],
   "source": [
    "math.floor(12.5)"
   ]
  },
  {
   "cell_type": "markdown",
   "id": "fd62634f",
   "metadata": {},
   "source": [
    "# Data type"
   ]
  },
  {
   "cell_type": "markdown",
   "id": "78a4d21c",
   "metadata": {},
   "source": [
    "Create variables "
   ]
  },
  {
   "cell_type": "code",
   "execution_count": 37,
   "id": "00abc87a",
   "metadata": {
    "scrolled": true
   },
   "outputs": [
    {
     "name": "stdout",
     "output_type": "stream",
     "text": [
      "Varaible a with value (12), its datatype is <class 'int'> \n",
      "\n",
      "Varaible b with value (2.5),its datatype is<class 'float'> \n",
      "\n"
     ]
    }
   ],
   "source": [
    "#int_type\n",
    "a = 12\n",
    "b = 2.5\n",
    "print(f\"Varaible a with value ({a}), its datatype is {type(a)} \\n\")\n",
    "print(f\"Varaible b with value ({b}),its datatype is {type(b)} \\n\")\n"
   ]
  },
  {
   "cell_type": "code",
   "execution_count": 104,
   "id": "5a20f587",
   "metadata": {},
   "outputs": [
    {
     "name": "stdout",
     "output_type": "stream",
     "text": [
      "Enter your number:9893839480\n"
     ]
    }
   ],
   "source": [
    "#User_input_variable\n",
    "input_var = input(\"Enter your number:\")"
   ]
  },
  {
   "cell_type": "code",
   "execution_count": null,
   "id": "af99c673",
   "metadata": {},
   "outputs": [],
   "source": [
    "#Avoid_var_name_with_special_chrachters\n",
    "first-name = 98989\n",
    "first@name = 7667\n",
    "first$name = \"Bioinformatics\"\n",
    "Bioinformatics-1 = 1\n",
    "1Bioinformatics = 1"
   ]
  },
  {
   "cell_type": "code",
   "execution_count": 42,
   "id": "eab864ba",
   "metadata": {
    "scrolled": true
   },
   "outputs": [
    {
     "name": "stdout",
     "output_type": "stream",
     "text": [
      "Varaible str_var1 with value (Bio),its datatype is <class 'str'> \n",
      "\n",
      "Bio_informatics\n"
     ]
    }
   ],
   "source": [
    "#string_type\n",
    "str_var1 = \"Bio\"\n",
    "str_var2= \"_informatics\"\n",
    "print(f\"Varaible str_var1 with value ({str_var1}),its datatype is {type(str_var1)} \\n\")\n",
    "print(str_var1 + str_var2)"
   ]
  },
  {
   "cell_type": "code",
   "execution_count": 77,
   "id": "383a83d8",
   "metadata": {
    "scrolled": true
   },
   "outputs": [
    {
     "name": "stdout",
     "output_type": "stream",
     "text": [
      "C count in seq var is 3\n",
      "length of seq var is 10\n",
      "slice from seq var for first three chrs are CAT\n"
     ]
    }
   ],
   "source": [
    "#apply_functions on str\n",
    "seq= \"CATGCTAGCA\"\n",
    "print(f\"C count in seq var is {seq.count('C')}\")\n",
    "print(f\"length of seq var is {len(seq)}\")\n",
    "print(f\"slice from seq var for first three chrs are {seq[0:3]}\")"
   ]
  },
  {
   "cell_type": "code",
   "execution_count": null,
   "id": "d4af929f",
   "metadata": {},
   "outputs": [],
   "source": [
    "#string_is_imutable\n",
    "str_var2[1] = \"e\""
   ]
  },
  {
   "cell_type": "code",
   "execution_count": null,
   "id": "ce57838f",
   "metadata": {},
   "outputs": [],
   "source": [
    "#Avoid to sum str with int\n",
    "a + str_var1"
   ]
  },
  {
   "cell_type": "code",
   "execution_count": 41,
   "id": "d72b4f3d",
   "metadata": {},
   "outputs": [
    {
     "name": "stdout",
     "output_type": "stream",
     "text": [
      "here you can sum 12Bio\n"
     ]
    }
   ],
   "source": [
    "print(f\"here you can sum {str(a) + str_var1}\")"
   ]
  },
  {
   "cell_type": "code",
   "execution_count": 35,
   "id": "21859b4c",
   "metadata": {
    "scrolled": true
   },
   "outputs": [
    {
     "name": "stdout",
     "output_type": "stream",
     "text": [
      "True\n",
      "True\n"
     ]
    }
   ],
   "source": [
    "#Boolean_Values\n",
    "print(a == 12)\n",
    "seq= \"CATGCTAGCA\"\n",
    "print(\"CAT\" in seq)"
   ]
  },
  {
   "cell_type": "markdown",
   "id": "c1e69b0c",
   "metadata": {},
   "source": [
    "# Task 1 create GC content counter "
   ]
  },
  {
   "cell_type": "code",
   "execution_count": null,
   "id": "37282c0d",
   "metadata": {},
   "outputs": [],
   "source": [
    "########Bystudents\n",
    "\n"
   ]
  },
  {
   "cell_type": "markdown",
   "id": "8364dc4e",
   "metadata": {},
   "source": [
    "List"
   ]
  },
  {
   "cell_type": "code",
   "execution_count": null,
   "id": "319c6ccc",
   "metadata": {},
   "outputs": [],
   "source": [
    "#Lists are a way of organizing your data\n",
    "xList = [1, 2, 3, 4]\n",
    "xList\n"
   ]
  },
  {
   "cell_type": "code",
   "execution_count": 88,
   "id": "04b43c9c",
   "metadata": {},
   "outputs": [
    {
     "data": {
      "text/plain": [
       "[1, 2, 3, 4, 5, 6, 7, 8]"
      ]
     },
     "execution_count": 88,
     "metadata": {},
     "output_type": "execute_result"
    }
   ],
   "source": [
    "# Concatenation\n",
    "x = [1, 2, 3, 4]\n",
    "y = [5, 6, 7, 8]\n",
    "\n",
    "combine_list = x + y\n",
    "combine_list"
   ]
  },
  {
   "cell_type": "code",
   "execution_count": 89,
   "id": "4621411d",
   "metadata": {},
   "outputs": [
    {
     "name": "stdout",
     "output_type": "stream",
     "text": [
      "combine_list after change combine_list index zero into 99 value [99, 2, 3, 4, 5, 6, 7, 8]\n",
      "combine_list after insert value 55 into second index [99, 2, 55, 3, 4, 5, 6, 7, 8]\n",
      "combine_list after removing the second index [99, 55, 3, 4, 5, 6, 7, 8]\n"
     ]
    }
   ],
   "source": [
    "#list_is_mutable\n",
    "combine_list[0] = 99\n",
    "print(f\"combine_list after change combine_list index zero into 99 value {combine_list}\")\n",
    "combine_list.insert(2,55)\n",
    "print(f\"combine_list after insert value 55 into second index {combine_list}\")\n",
    "combine_list.pop(1)\n",
    "print(f\"combine_list after removing the second index {combine_list}\")"
   ]
  },
  {
   "cell_type": "code",
   "execution_count": 90,
   "id": "28d6e51e",
   "metadata": {},
   "outputs": [
    {
     "data": {
      "text/plain": [
       "[55, 3, 4]"
      ]
     },
     "execution_count": 90,
     "metadata": {},
     "output_type": "execute_result"
    }
   ],
   "source": [
    "#slicing\n",
    "combine_list[1:4]"
   ]
  },
  {
   "cell_type": "code",
   "execution_count": 91,
   "id": "e666e390",
   "metadata": {},
   "outputs": [],
   "source": [
    "#list_can_contain_string_also\n",
    "family= [\"Mom\", \"Dad\", \"Sis\", \"Bro\", \"Bro\", \"cat\", \"dog\", \"Sis\"]\n"
   ]
  },
  {
   "cell_type": "code",
   "execution_count": 93,
   "id": "3bf14d6f",
   "metadata": {},
   "outputs": [
    {
     "name": "stdout",
     "output_type": "stream",
     "text": [
      "Sis count in family var is 2\n",
      "length of family var is 8\n",
      "slice from family var for first three chrs are ['Mom', 'Dad', 'Sis']\n",
      "Max combine_list var are 99\n",
      "Min combine_list var are 3\n"
     ]
    }
   ],
   "source": [
    "#function_on_list\n",
    "print(f\"Sis count in family var is {family.count('Sis')}\")\n",
    "print(f\"length of family var is {len(family)}\")\n",
    "print(f\"slice from family var for first three chrs are {family[0:3]}\")\n",
    "print(f\"Max combine_list var are {max(combine_list)}\")\n",
    "print(f\"Min combine_list var are {min(combine_list)}\")"
   ]
  },
  {
   "cell_type": "code",
   "execution_count": 101,
   "id": "9a216ea4",
   "metadata": {},
   "outputs": [],
   "source": [
    "#Tuple_vars\n",
    "tup_var1 = (1, 2, 3)\n",
    "tup_var2 = (\"sis\", \"mom\", \"dad\")"
   ]
  },
  {
   "cell_type": "code",
   "execution_count": 102,
   "id": "adceaa0c",
   "metadata": {},
   "outputs": [
    {
     "name": "stdout",
     "output_type": "stream",
     "text": [
      "sis count intup_var2 is 1\n",
      "length of tup_var2 is 3\n",
      "slice from tup_var2 for first three chrs are ('sis', 'mom', 'dad')\n",
      "Max tup_var1 var are 3\n",
      "Min tup_var1 var are 1\n"
     ]
    }
   ],
   "source": [
    "#function_on_tuple\n",
    "print(f\"sis count intup_var2 is {tup_var2.count('sis')}\")\n",
    "print(f\"length of tup_var2 is {len(tup_var2)}\")\n",
    "print(f\"slice from tup_var2 for first three chrs are {tup_var2[0:3]}\")\n",
    "print(f\"Max tup_var1 var are {max(tup_var1)}\")\n",
    "print(f\"Min tup_var1 var are {min(tup_var1)}\")\n"
   ]
  },
  {
   "cell_type": "code",
   "execution_count": 106,
   "id": "c6f2f1de",
   "metadata": {},
   "outputs": [
    {
     "data": {
      "text/plain": [
       "2"
      ]
     },
     "execution_count": 106,
     "metadata": {},
     "output_type": "execute_result"
    }
   ],
   "source": [
    "#Tuple_is_immutable\n",
    "tup_var1[1] = 55"
   ]
  },
  {
   "cell_type": "code",
   "execution_count": 108,
   "id": "3ee64bcc",
   "metadata": {},
   "outputs": [
    {
     "name": "stdout",
     "output_type": "stream",
     "text": [
      "sis\n",
      "mom\n",
      "dad\n"
     ]
    }
   ],
   "source": [
    "#Unpacking_tuple\n",
    "tup_var2 = (\"sis\", \"mom\", \"dad\")\n",
    "trainx, trainy, testx= tup_var2\n",
    "print(trainx)\n",
    "print(trainy)\n",
    "print(testx)"
   ]
  },
  {
   "cell_type": "code",
   "execution_count": 110,
   "id": "d7e57bf7",
   "metadata": {},
   "outputs": [],
   "source": [
    "#unpacking_example (list_and_tuples)\n",
    "var1, var2, var3 = (1, 2, 3)\n",
    "var4, var5, var6 = [1, 2, 3]"
   ]
  },
  {
   "cell_type": "markdown",
   "id": "07648576",
   "metadata": {},
   "source": [
    "# Session 2: Python Syntax Essentials\n",
    "•\tDictionaries and Sets:\n",
    "\n",
    "o\tIntroduction to dictionaries and sets.\n",
    "\n",
    "•\tControl Flow:\n",
    "\n",
    "o\tBasics of if statements and loops.\n",
    "\n",
    "o\tWriting fundamental conditional and looped code.\n",
    "\n"
   ]
  },
  {
   "cell_type": "code",
   "execution_count": 130,
   "id": "970d4993",
   "metadata": {},
   "outputs": [],
   "source": [
    "#Dictionary\n",
    "mw = {'CH4': 16.04, 'H2O': 18.02, 'O2':32.00, 'CO2': 44.01}\n"
   ]
  },
  {
   "cell_type": "code",
   "execution_count": 131,
   "id": "015ffca4",
   "metadata": {},
   "outputs": [
    {
     "data": {
      "text/plain": [
       "dict_items([('CH4', 16.04), ('H2O', 18.02), ('O2', 32.0), ('CO2', 44.01)])"
      ]
     },
     "execution_count": 131,
     "metadata": {},
     "output_type": "execute_result"
    }
   ],
   "source": [
    "#print_dictionary_content\n",
    "mw.items()"
   ]
  },
  {
   "cell_type": "code",
   "execution_count": 132,
   "id": "af728e9b",
   "metadata": {},
   "outputs": [
    {
     "data": {
      "text/plain": [
       "16.04"
      ]
     },
     "execution_count": 132,
     "metadata": {},
     "output_type": "execute_result"
    }
   ],
   "source": [
    "#Retrive_value_using_key\n",
    "mw['CH4']"
   ]
  },
  {
   "cell_type": "code",
   "execution_count": 133,
   "id": "e349d9a7",
   "metadata": {},
   "outputs": [
    {
     "data": {
      "text/plain": [
       "{'CH4': 16.04, 'H2O': 18.02, 'O2': 32.0, 'CO2': 44.01, 'C8H18': 114.23}"
      ]
     },
     "execution_count": 133,
     "metadata": {},
     "output_type": "execute_result"
    }
   ],
   "source": [
    "#Dictionary_mutapilaty\n",
    "mw['C8H18'] = 114.23\n",
    "mw"
   ]
  },
  {
   "cell_type": "code",
   "execution_count": 134,
   "id": "e0bcf082",
   "metadata": {},
   "outputs": [
    {
     "name": "stdout",
     "output_type": "stream",
     "text": [
      "CH4\n"
     ]
    }
   ],
   "source": [
    "#Rertive_key_using_value\n",
    "for key, value in mw.items():\n",
    "    if value == 16.04:\n",
    "        print(key)"
   ]
  },
  {
   "cell_type": "code",
   "execution_count": 138,
   "id": "6c0d427f",
   "metadata": {},
   "outputs": [
    {
     "data": {
      "text/plain": [
       "{(1, 2): 'value'}"
      ]
     },
     "execution_count": 138,
     "metadata": {},
     "output_type": "execute_result"
    }
   ],
   "source": [
    "# Valid usage of a tuple as a key in a dictionary\n",
    "my_dict = {(1, 2): \"value\"}\n",
    "my_dict\n",
    "# This would raise an error since lists are not hashable\n",
    "#my_dict = {[1, 2]: \"value\"}"
   ]
  },
  {
   "cell_type": "markdown",
   "id": "6aea4a88",
   "metadata": {},
   "source": [
    "if  logical_condition:\n",
    "\n",
    "    <code to run>"
   ]
  },
  {
   "cell_type": "code",
   "execution_count": 151,
   "id": "d371dd69",
   "metadata": {
    "scrolled": true
   },
   "outputs": [
    {
     "name": "stdout",
     "output_type": "stream",
     "text": [
      "less than five\n"
     ]
    }
   ],
   "source": [
    "#one_condition\n",
    "a = 2\n",
    "if a<5:\n",
    "    print('less than five')"
   ]
  },
  {
   "cell_type": "code",
   "execution_count": 164,
   "id": "6f0fb0e7",
   "metadata": {},
   "outputs": [
    {
     "name": "stdout",
     "output_type": "stream",
     "text": [
      "is positive\n"
     ]
    }
   ],
   "source": [
    "#multiple_if_statment\n",
    "a = 2\n",
    "if a<0:\n",
    "    print('is negative')\n",
    "elif a == 0:\n",
    "    print('is zero')\n",
    "elif a>0:\n",
    "    print('is positive')\n"
   ]
  },
  {
   "cell_type": "code",
   "execution_count": 153,
   "id": "8b388e6d",
   "metadata": {},
   "outputs": [
    {
     "name": "stdout",
     "output_type": "stream",
     "text": [
      "yes, I am hungry, but I need limon\n"
     ]
    }
   ],
   "source": [
    "#if_else\n",
    "a = \"tuna\"\n",
    "b = \"rice\"\n",
    "c = \"limon\"\n",
    "if a ==  \"tuna\":\n",
    "    print('yes, I am hungry, but I need limon')\n",
    "else:\n",
    "    print(\"No, I do not want to eat\")"
   ]
  },
  {
   "cell_type": "code",
   "execution_count": 154,
   "id": "6f0a37eb",
   "metadata": {},
   "outputs": [
    {
     "name": "stdout",
     "output_type": "stream",
     "text": [
      "yes, I can eat now\n"
     ]
    }
   ],
   "source": [
    "#if_and_condition\n",
    "if a ==  \"tuna\" and c == \"limon\":\n",
    "    print('yes, I can eat now')"
   ]
  },
  {
   "cell_type": "code",
   "execution_count": 155,
   "id": "23350460",
   "metadata": {},
   "outputs": [
    {
     "name": "stdout",
     "output_type": "stream",
     "text": [
      "No, I do not want to eat\n"
     ]
    }
   ],
   "source": [
    "#if_or_condition\n",
    "if c == \"limon\" or b == \"rice\":\n",
    "    print('No, I do not want to eat')"
   ]
  },
  {
   "cell_type": "code",
   "execution_count": 161,
   "id": "52c13383",
   "metadata": {},
   "outputs": [
    {
     "name": "stdout",
     "output_type": "stream",
     "text": [
      "i want to eat now\n"
     ]
    }
   ],
   "source": [
    "#Nested_if\n",
    "if a == \"tuna\":\n",
    "    if c == \"limon\":\n",
    "        print(\"i want to eat now\")\n",
    "    else:\n",
    "        print(\"I do not want to eat\")"
   ]
  },
  {
   "cell_type": "code",
   "execution_count": null,
   "id": "437d74b8",
   "metadata": {},
   "outputs": [],
   "source": [
    "#for_loop\n",
    "sequance = \"ATCG\"\n",
    "list_var = [['Alice', 18], ['Bob', 22]]\n",
    "for i in sequance:\n",
    "    print(i)"
   ]
  },
  {
   "cell_type": "code",
   "execution_count": 193,
   "id": "0959af4d",
   "metadata": {},
   "outputs": [
    {
     "name": "stdout",
     "output_type": "stream",
     "text": [
      "['Alice', 18]\n",
      "['Bob', 22]\n"
     ]
    }
   ],
   "source": [
    "for i in list_var:\n",
    "    print(i)"
   ]
  },
  {
   "cell_type": "code",
   "execution_count": 194,
   "id": "fe33e698",
   "metadata": {},
   "outputs": [
    {
     "name": "stdout",
     "output_type": "stream",
     "text": [
      "Alice 18\n",
      "Bob 22\n"
     ]
    }
   ],
   "source": [
    "for i,j in list_var:\n",
    "    print(i, j)"
   ]
  },
  {
   "cell_type": "code",
   "execution_count": null,
   "id": "5ae15096",
   "metadata": {},
   "outputs": [],
   "source": [
    "for i in range(5):\n",
    "    print(i)"
   ]
  },
  {
   "cell_type": "code",
   "execution_count": null,
   "id": "ae221407",
   "metadata": {},
   "outputs": [],
   "source": [
    "for i in range(0, len(sequance), 3):\n",
    "    print(sequance[i])"
   ]
  },
  {
   "cell_type": "code",
   "execution_count": null,
   "id": "f11fe737",
   "metadata": {},
   "outputs": [],
   "source": [
    "counter = 0\n",
    "sequance = \"CGTCGTCGTCATTACTAGT\"\n",
    "while counter < 10:\n",
    "    print(sequance[counter])\n",
    "    counter +=1 "
   ]
  },
  {
   "cell_type": "code",
   "execution_count": null,
   "id": "b0bce88e",
   "metadata": {},
   "outputs": [],
   "source": []
  },
  {
   "cell_type": "markdown",
   "id": "22492732",
   "metadata": {},
   "source": [
    "# Task 2 create AT complementary"
   ]
  },
  {
   "cell_type": "code",
   "execution_count": null,
   "id": "01db30f9",
   "metadata": {},
   "outputs": [],
   "source": []
  },
  {
   "cell_type": "code",
   "execution_count": null,
   "id": "e9a4b9e5",
   "metadata": {},
   "outputs": [],
   "source": []
  }
 ],
 "metadata": {
  "kernelspec": {
   "display_name": "Python 3 (ipykernel)",
   "language": "python",
   "name": "python3"
  },
  "language_info": {
   "codemirror_mode": {
    "name": "ipython",
    "version": 3
   },
   "file_extension": ".py",
   "mimetype": "text/x-python",
   "name": "python",
   "nbconvert_exporter": "python",
   "pygments_lexer": "ipython3",
   "version": "3.9.13"
  }
 },
 "nbformat": 4,
 "nbformat_minor": 5
}
